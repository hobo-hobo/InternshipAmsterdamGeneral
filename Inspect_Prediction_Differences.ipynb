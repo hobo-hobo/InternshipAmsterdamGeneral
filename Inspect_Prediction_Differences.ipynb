{
  "nbformat": 4,
  "nbformat_minor": 0,
  "metadata": {
    "colab": {
      "name": "Inspect Prediction Differences.ipynb",
      "provenance": [],
      "authorship_tag": "ABX9TyO1TFUEZpLaLzxaZDG6pN9x",
      "include_colab_link": true
    },
    "kernelspec": {
      "name": "python3",
      "display_name": "Python 3"
    },
    "language_info": {
      "name": "python"
    }
  },
  "cells": [
    {
      "cell_type": "markdown",
      "metadata": {
        "id": "view-in-github",
        "colab_type": "text"
      },
      "source": [
        "<a href=\"https://colab.research.google.com/github/hobo-hobo/InternshipAmsterdamGeneral/blob/master/Inspect_Prediction_Differences.ipynb\" target=\"_parent\"><img src=\"https://colab.research.google.com/assets/colab-badge.svg\" alt=\"Open In Colab\"/></a>"
      ]
    },
    {
      "cell_type": "markdown",
      "source": [
        "# Inspect Differences"
      ],
      "metadata": {
        "id": "QCQ4OrWKqof-"
      }
    },
    {
      "cell_type": "markdown",
      "source": [
        "## Installing and loading"
      ],
      "metadata": {
        "id": "y3SbHlo_qyF3"
      }
    },
    {
      "cell_type": "code",
      "execution_count": null,
      "metadata": {
        "id": "3SJZqUEKqnlq"
      },
      "outputs": [],
      "source": [
        "import pandas as pd\n",
        "import matplotlib.pyplot as plt\n",
        "import statistics\n",
        "import nltk"
      ]
    },
    {
      "cell_type": "code",
      "source": [
        "from nltk.corpus import stopwords\n",
        "nltk.download('stopwords')\n"
      ],
      "metadata": {
        "colab": {
          "base_uri": "https://localhost:8080/"
        },
        "id": "5MeZSLpbpiRU",
        "outputId": "5222e091-5014-428d-c72d-dc5677fbbe56"
      },
      "execution_count": null,
      "outputs": [
        {
          "output_type": "stream",
          "name": "stdout",
          "text": [
            "[nltk_data] Downloading package stopwords to /root/nltk_data...\n",
            "[nltk_data]   Unzipping corpora/stopwords.zip.\n"
          ]
        },
        {
          "output_type": "execute_result",
          "data": {
            "text/plain": [
              "True"
            ]
          },
          "metadata": {},
          "execution_count": 8
        }
      ]
    },
    {
      "cell_type": "code",
      "source": [
        "freq_dict = dict()\n",
        "\n",
        "with open (\"/content/frequency_merge_wiki_child.txt\", \"r\") as infile:\n",
        "  data = infile.readlines()\n",
        "\n",
        "for line in data:\n",
        "  line = line.strip()\n",
        "  info = line.split(\" \")\n",
        "  word = info [0]\n",
        "  freq = int(info [1])\n",
        "  freq_dict[word]=freq\n"
      ],
      "metadata": {
        "id": "OvHoCX9KbNDO"
      },
      "execution_count": null,
      "outputs": []
    },
    {
      "cell_type": "code",
      "source": [
        "with open (\"/content/lex.mturk.txt\",\"r\",encoding=\"ISO-8859-1\") as infile:\n",
        "  lexmturk = infile.readlines()[1:]\n",
        "\n",
        "annotations = []\n",
        "for line in lexmturk:\n",
        "  info = line.strip().split(\"\\t\")\n",
        "  sentence = info[0]\n",
        "  cword = info[1]\n",
        "  line_annotations = [] \n",
        "  for an in  info[2:]:\n",
        "    if an.count(\" \")<1:\n",
        "      line_annotations.append(an)\n",
        "  annotations.append(set(line_annotations))"
      ],
      "metadata": {
        "id": "63zE8MZBQVjm"
      },
      "execution_count": null,
      "outputs": []
    },
    {
      "cell_type": "markdown",
      "source": [
        "## Some Functions"
      ],
      "metadata": {
        "id": "t3F2vnOBq2BM"
      }
    },
    {
      "cell_type": "code",
      "source": [
        "def get_characteristics(row):\n",
        "  row = row.strip().split(\"\\t\")\n",
        "  sentence = row[0]\n",
        "  complex_word = row[1]\n",
        "  options = set(row[2:])\n",
        "  \n",
        "  return(sentence, complex_word, options)"
      ],
      "metadata": {
        "id": "e23PTDFGs7Rz"
      },
      "execution_count": null,
      "outputs": []
    },
    {
      "cell_type": "code",
      "source": [
        "def get_comparisons(base_model, other_model, annotations):\n",
        "  all_model_preds = []\n",
        "  all_base_preds = []\n",
        "\n",
        "  ABM = []\n",
        "  AM = []\n",
        "  AB = []\n",
        "  BM = []\n",
        "  A = []\n",
        "  B = []\n",
        "  M = []\n",
        "\n",
        "  len_ABM = []\n",
        "  len_AM = []\n",
        "  len_AB = []\n",
        "  len_BM = []\n",
        "  len_A = []\n",
        "  len_B = []\n",
        "  len_M = []\n",
        "\n",
        "  sents = []\n",
        "  cwords = []\n",
        "\n",
        "  for base_line, model_line, annotations_line in zip(base_model, other_model, annotations):\n",
        "    if len(base_line)>3:\n",
        "      sent, complex_word, base_options = get_characteristics(base_line)\n",
        "    else: continue\n",
        "    if len(model_line)>3:\n",
        "      sent, complex_word, model_options = get_characteristics(model_line)\n",
        "    else: continue\n",
        "    \n",
        "    all_model_preds.append(model_options)\n",
        "    all_base_preds.append(base_options)\n",
        "\n",
        "    ABM_predictions = base_options.intersection(model_options, annotations_line)\n",
        "    AM_predictions = annotations_line.intersection(model_options).difference(base_options)\n",
        "    AB_predictions = annotations_line.intersection(base_options).difference(model_options)\n",
        "    BM_predictions = base_options.intersection(model_options).difference(annotations_line)\n",
        "    A_predictions = annotations_line.difference(base_options, model_options)\n",
        "    B_predictions = base_options.difference(model_options, annotations_line)\n",
        "    M_predictions = model_options.difference(base_options, annotations_line)\n",
        "\n",
        "    all_preds = base_options.union(model_options, annotations_line)\n",
        "\n",
        "    ABM.append(ABM_predictions)\n",
        "    AM.append(AM_predictions)\n",
        "    AB.append(AB_predictions)\n",
        "    BM.append(BM_predictions)\n",
        "    A.append(A_predictions)\n",
        "    B.append(B_predictions)\n",
        "    M.append(M_predictions)\n",
        "\n",
        "\n",
        "    len_ABM.append(len(ABM_predictions))\n",
        "    len_AM.append(len(AM_predictions))\n",
        "    len_AB.append(len(AB_predictions))\n",
        "    len_BM.append(len(BM_predictions))\n",
        "    len_A.append(len(A_predictions))\n",
        "    len_B.append(len(B_predictions))\n",
        "    len_M.append(len(M_predictions))\n",
        "\n",
        "    sents.append(sent)\n",
        "    cwords.append(complex_word)  \n",
        "\n",
        "  return all_base_preds, all_model_preds, ABM, AM, AB, BM, A, B, M, len_ABM, len_AM, len_AB, len_BM, len_A, len_B, len_M, sents, cwords,"
      ],
      "metadata": {
        "id": "Wg39Sf4WsOlL"
      },
      "execution_count": null,
      "outputs": []
    },
    {
      "cell_type": "code",
      "source": [
        "def get_frequencies(words):\n",
        "  # word_list = words\n",
        "  word_list = [item for wordset in words for item in wordset]\n",
        "  total_freq = 0\n",
        "  frequencies = []\n",
        "  for word in word_list:\n",
        "    if word in freq_dict.keys():\n",
        "      # print(word)\n",
        "      freq = freq_dict[word]\n",
        "      total_freq += freq\n",
        "      frequencies.append(freq)\n",
        "  \n",
        "  return(frequencies)"
      ],
      "metadata": {
        "id": "ZrfaO7oUcQ9W"
      },
      "execution_count": null,
      "outputs": []
    },
    {
      "cell_type": "markdown",
      "source": [
        "## Analysis"
      ],
      "metadata": {
        "id": "eEoWnySHsWLQ"
      }
    },
    {
      "cell_type": "code",
      "source": [
        "wwm_path = \"/content/LMT_WWM_outputs.txt\"\n",
        "with open (wwm_path, \"r\") as infile:\n",
        "  base_model = infile.readlines()  "
      ],
      "metadata": {
        "id": "IFZ3jx1KQFMT"
      },
      "execution_count": null,
      "outputs": []
    },
    {
      "cell_type": "code",
      "source": [
        "stop_words = set(stopwords.words('english'))"
      ],
      "metadata": {
        "id": "U_vfSujhpu9-"
      },
      "execution_count": null,
      "outputs": []
    },
    {
      "cell_type": "code",
      "source": [
        "other_model_paths = [\"/content/LMT_FT_2class_10000_sents_outputs.txt\", \"/content/LMT_FT_2class_50000_lrtiny_outputs.txt\", \"/content/LMT_FT_mlm_1000_lr_5e-6_outputs.txt\", \"/content/LMT_FT_mlm_1000_sents_outputs.txt\", \"/content/LMT_FT_mlm_50000_5e-7_outputs.txt\"] \n",
        "with open(\"numbers.csv\",\"a\") as outfile:\n",
        "  outfile.write(\"setting\\t occurence\\t avg_tok_len\\t median\\t sigma\\t stop_word_count\\t stop_word_unique\\n\")\n",
        "\n",
        "  for model in other_model_paths:\n",
        "    model_name = model.replace(\"/content/\",\"\")\n",
        "    print(\"\\nNumbers for model:\", model_name)\n",
        "    outfile.write(model_name)\n",
        "    \n",
        "    with open (model, \"r\") as infile:\n",
        "      other = infile.readlines()\n",
        "      comparisons = get_comparisons(base_model, other, annotations)\n",
        "\n",
        "      for setting, name in zip(comparisons[:9], [\"all_base_preds\", \"all_model_preds\", \"ABM\", \"AM\", \"AB\", \"BM\", \"A\", \"B\", \"M\"]):\n",
        "        print(\"\\nSetting:\",name)\n",
        "        \n",
        "        frequencies = get_frequencies(setting)\n",
        "        occurence = len(frequencies)\n",
        "\n",
        "        print(\"This setting occured\", occurence, \"times\")\n",
        "\n",
        "        if occurence> 1:\n",
        "        \n",
        "          flattened =  [item for wordset in setting for item in wordset]\n",
        "          lengths = [len(i) for i in flattened]\n",
        "          \n",
        "          stop_word_count = 0  \n",
        "          for stop_word in stop_words:\n",
        "            stop_word_count += flattened.count(stop_word)\n",
        "\n",
        "          stop_word_unique = len(stop_words.intersection(set(flattened)))\n",
        "\n",
        "          avg_tok_len = sum(lengths) / len(lengths)\n",
        "          median = statistics.median(frequencies)\n",
        "          sigma = statistics.stdev(frequencies)\n",
        "\n",
        "          outfile.write(name+\"\\t\"+str(occurence)+\"\\t\"+str(avg_tok_len)+\"\\t\"+str(median)+\"\\t\"+str(sigma)+\"\\t\"+str(stop_word_count)+\"\\t\"+str(stop_word_unique)+\"\\n\")\n",
        "          \n",
        "        else:\n",
        "          print(\"Not enough occurrence\")\n"
      ],
      "metadata": {
        "colab": {
          "base_uri": "https://localhost:8080/"
        },
        "id": "i9q5QU0tOXbq",
        "outputId": "256e0eaf-85dc-4a78-940d-7cf98b90a16a"
      },
      "execution_count": null,
      "outputs": [
        {
          "output_type": "stream",
          "name": "stdout",
          "text": [
            "\n",
            "Numbers for model: LMT_FT_2class_10000_sents_outputs.txt\n",
            "\n",
            "Setting: all_base_preds\n",
            "This setting occured 5000 times\n",
            "\n",
            "Setting: all_model_preds\n",
            "This setting occured 5000 times\n",
            "\n",
            "Setting: ABM\n",
            "This setting occured 1132 times\n",
            "\n",
            "Setting: AM\n",
            "This setting occured 438 times\n",
            "\n",
            "Setting: AB\n",
            "This setting occured 347 times\n",
            "\n",
            "Setting: BM\n",
            "This setting occured 1425 times\n",
            "\n",
            "Setting: A\n",
            "This setting occured 3154 times\n",
            "\n",
            "Setting: B\n",
            "This setting occured 2096 times\n",
            "\n",
            "Setting: M\n",
            "This setting occured 2005 times\n",
            "\n",
            "Numbers for model: LMT_FT_2class_50000_lrtiny_outputs.txt\n",
            "\n",
            "Setting: all_base_preds\n",
            "This setting occured 5000 times\n",
            "\n",
            "Setting: all_model_preds\n",
            "This setting occured 4998 times\n",
            "\n",
            "Setting: ABM\n",
            "This setting occured 1191 times\n",
            "\n",
            "Setting: AM\n",
            "This setting occured 221 times\n",
            "\n",
            "Setting: AB\n",
            "This setting occured 288 times\n",
            "\n",
            "Setting: BM\n",
            "This setting occured 2059 times\n",
            "\n",
            "Setting: A\n",
            "This setting occured 3371 times\n",
            "\n",
            "Setting: B\n",
            "This setting occured 1462 times\n",
            "\n",
            "Setting: M\n",
            "This setting occured 1527 times\n",
            "\n",
            "Numbers for model: LMT_FT_mlm_1000_lr_5e-6_outputs.txt\n",
            "\n",
            "Setting: all_base_preds\n",
            "This setting occured 5000 times\n",
            "\n",
            "Setting: all_model_preds\n",
            "This setting occured 4991 times\n",
            "\n",
            "Setting: ABM\n",
            "This setting occured 1073 times\n",
            "\n",
            "Setting: AM\n",
            "This setting occured 146 times\n",
            "\n",
            "Setting: AB\n",
            "This setting occured 406 times\n",
            "\n",
            "Setting: BM\n",
            "This setting occured 2013 times\n",
            "\n",
            "Setting: A\n",
            "This setting occured 3446 times\n",
            "\n",
            "Setting: B\n",
            "This setting occured 1508 times\n",
            "\n",
            "Setting: M\n",
            "This setting occured 1759 times\n",
            "\n",
            "Numbers for model: LMT_FT_mlm_1000_sents_outputs.txt\n",
            "\n",
            "Setting: all_base_preds\n",
            "This setting occured 5000 times\n",
            "\n",
            "Setting: all_model_preds\n",
            "This setting occured 4965 times\n",
            "\n",
            "Setting: ABM\n",
            "This setting occured 1010 times\n",
            "\n",
            "Setting: AM\n",
            "This setting occured 269 times\n",
            "\n",
            "Setting: AB\n",
            "This setting occured 469 times\n",
            "\n",
            "Setting: BM\n",
            "This setting occured 1436 times\n",
            "\n",
            "Setting: A\n",
            "This setting occured 3323 times\n",
            "\n",
            "Setting: B\n",
            "This setting occured 2085 times\n",
            "\n",
            "Setting: M\n",
            "This setting occured 2250 times\n",
            "\n",
            "Numbers for model: LMT_FT_mlm_50000_5e-7_outputs.txt\n",
            "\n",
            "Setting: all_base_preds\n",
            "This setting occured 5000 times\n",
            "\n",
            "Setting: all_model_preds\n",
            "This setting occured 5000 times\n",
            "\n",
            "Setting: ABM\n",
            "This setting occured 1479 times\n",
            "\n",
            "Setting: AM\n",
            "This setting occured 1 times\n",
            "Not enough occurrence\n",
            "\n",
            "Setting: AB\n",
            "This setting occured 0 times\n",
            "Not enough occurrence\n",
            "\n",
            "Setting: BM\n",
            "This setting occured 3517 times\n",
            "\n",
            "Setting: A\n",
            "This setting occured 3591 times\n",
            "\n",
            "Setting: B\n",
            "This setting occured 4 times\n",
            "\n",
            "Setting: M\n",
            "This setting occured 3 times\n"
          ]
        }
      ]
    },
    {
      "cell_type": "code",
      "source": [
        "comparisons = pd.DataFrame(list(zip(sents, cwords, ABM, len_ABM, AM, len_AM,  AB, len_AB, BM, len_BM, A, len_A, B, len_B, M, len_M)), columns= [\"Sentence\", \"complex word\", \"ABM\", \"len ABM\", \"AM\", \"len AM\",  \"AB\", \"len AB\", \"BM\", \"len BM\", \"A\", \"len A\", \"B\", \"len B\", \"M\", \"len M\"])\n",
        "comparisons.to_csv(\"/content/comparisons.csv\",sep=\";\")"
      ],
      "metadata": {
        "id": "kOefln0dPSn8"
      },
      "execution_count": null,
      "outputs": []
    }
  ]
}